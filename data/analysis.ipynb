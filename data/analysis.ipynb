{
 "cells": [
  {
   "cell_type": "code",
   "execution_count": 1,
   "metadata": {},
   "outputs": [],
   "source": [
    "import matplotlib.pyplot as plt\n",
    "import numpy as np"
   ]
  },
  {
   "cell_type": "code",
   "execution_count": 2,
   "metadata": {},
   "outputs": [],
   "source": [
    "n = 100\n",
    "save_string = 'angle_pulse/{}DEGS.CSV'.format(n)"
   ]
  },
  {
   "cell_type": "code",
   "execution_count": 3,
   "metadata": {},
   "outputs": [
    {
     "name": "stdout",
     "output_type": "stream",
     "text": [
      "1.1999999999998123e-05\n"
     ]
    }
   ],
   "source": [
    "t, V = np.loadtxt(save_string, unpack = True, skiprows = 1, delimiter = ',')\n",
    "print(t[1] - t[0])"
   ]
  },
  {
   "cell_type": "code",
   "execution_count": 41,
   "metadata": {},
   "outputs": [
    {
     "name": "stdout",
     "output_type": "stream",
     "text": [
      "[0.019788, 0.019776, 0.019776000000000002, 0.019775999999999995, 0.019788]\n"
     ]
    }
   ],
   "source": [
    "t_low = []\n",
    "V_low = []\n",
    "t_high = []\n",
    "V_high = []\n",
    "for i in range(len(V)):\n",
    "    if(V[i] < 3):\n",
    "        t_low.append(t[i])\n",
    "        V_low.append(V[i])\n",
    "    else:\n",
    "        t_high.append(t[i])\n",
    "        V_high.append(V[i])\n",
    "        \n",
    "high_length = []\n",
    "low_length = []\n",
    "total_length = []\n",
    "\n",
    "for i in range(1, len(t_low)):\n",
    "    gap = t_low[i] - t_low[i-1]\n",
    "    if gap > 0.0001:\n",
    "        high_length.append(gap)\n",
    "        \n",
    "for i in range(1, len(t_high)):\n",
    "    gap = t_high[i] - t_high[i-1]\n",
    "    if gap > 0.0001:\n",
    "        low_length.append(gap)\n",
    "    \n",
    "\n",
    "high_mean = np.mean(high_length)\n",
    "low_mean  = np.mean(low_length)\n",
    "total_mean = high_mean + low_mean\n",
    "\n",
    "for i in range(len(low_length)):\n",
    "    total_length.append(high_length[i] + low_length[i])\n",
    "    \n",
    "print(total_length)\n"
   ]
  },
  {
   "cell_type": "code",
   "execution_count": 36,
   "metadata": {},
   "outputs": [
    {
     "name": "stdout",
     "output_type": "stream",
     "text": [
      "(0.001651999999999999, 0.0015, 0.00015199999999999892)\n",
      "(0.019779199999999997, 0.02, -0.00022080000000000363)\n"
     ]
    }
   ],
   "source": [
    "expectation = ((2.5 + (10 * n/180)) /100) * 20 * (10**(-3))\n",
    "print(high_mean, expectation, high_mean - expectation)\n",
    "print(total_mean, 0.02, total_mean - 0.02)"
   ]
  },
  {
   "cell_type": "code",
   "execution_count": null,
   "metadata": {},
   "outputs": [],
   "source": []
  },
  {
   "cell_type": "code",
   "execution_count": 6,
   "metadata": {},
   "outputs": [
    {
     "name": "stdout",
     "output_type": "stream",
     "text": [
      "1.6000000000001202e-08\n"
     ]
    }
   ],
   "source": [
    "t_base, V_base = np.loadtxt('angle_pulse/BASE.CSV', unpack = True, skiprows = 1, delimiter = ',')\n",
    "print(t_base[1] - t_base[0])"
   ]
  },
  {
   "cell_type": "code",
   "execution_count": 7,
   "metadata": {},
   "outputs": [
    {
     "data": {
      "text/plain": [
       "[<matplotlib.lines.Line2D at 0x106ff42d0>]"
      ]
     },
     "execution_count": 7,
     "metadata": {},
     "output_type": "execute_result"
    },
    {
     "data": {
      "image/png": "[encoded data removed]",
      "text/plain": [
       "<Figure size 432x288 with 1 Axes>"
      ]
     },
     "metadata": {
      "needs_background": "light"
     },
     "output_type": "display_data"
    }
   ],
   "source": [
    "plt.plot(t_base, V_base)"
   ]
  },
  {
   "cell_type": "code",
   "execution_count": 16,
   "metadata": {},
   "outputs": [
    {
     "name": "stdout",
     "output_type": "stream",
     "text": [
      "[1.1184e-05, 1.1184000000000002e-05, 1.1184e-05, 1.1184e-05, 1.1184e-05]\n"
     ]
    }
   ],
   "source": [
    "t_base_low = []\n",
    "V_base_low = []\n",
    "t_base_high = []\n",
    "V_base_high = []\n",
    "for i in range(len(V_base)):\n",
    "    if(V_base[i] < 3):\n",
    "        t_base_low.append(t_base[i])\n",
    "        V_base_low.append(V_base[i])\n",
    "    else:\n",
    "        t_base_high.append(t_base[i])\n",
    "        V_base_high.append(V_base[i])\n",
    "        \n",
    "        \n",
    "high_base_length = []\n",
    "        \n",
    "for i in range(1, len(t_base_low)):\n",
    "    gap_base = t_base_low[i] - t_base_low[i-1]\n",
    "    if gap_base > 0.00001:\n",
    "        high_base_length.append(gap_base)\n",
    "    \n",
    "high_base_mean = np.mean(high_base_length)\n",
    "print(high_base_length)"
   ]
  },
  {
   "cell_type": "code",
   "execution_count": 29,
   "metadata": {},
   "outputs": [
    {
     "name": "stdout",
     "output_type": "stream",
     "text": [
      "(1.1184e-05, 1.1111111111111112e-05, 7.288888888888834e-08)\n"
     ]
    }
   ],
   "source": [
    "expectation_base = (float(1)/float(1800)) * 20 * (10**-3)\n",
    "print(high_base_mean, expectation_base, high_base_mean - expectation_base)"
   ]
  },
  {
   "cell_type": "code",
   "execution_count": null,
   "metadata": {},
   "outputs": [],
   "source": []
  },
  {
   "cell_type": "code",
   "execution_count": null,
   "metadata": {},
   "outputs": [],
   "source": []
  }
 ],
 "metadata": {
  "kernelspec": {
   "display_name": "Python 2",
   "language": "python",
   "name": "python2"
  },
  "language_info": {
   "codemirror_mode": {
    "name": "ipython",
    "version": 2
   },
   "file_extension": ".py",
   "mimetype": "text/x-python",
   "name": "python",
   "nbconvert_exporter": "python",
   "pygments_lexer": "ipython2",
   "version": "2.7.15"
  }
 },
 "nbformat": 4,
 "nbformat_minor": 2
}
